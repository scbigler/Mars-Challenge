{
 "cells": [
  {
   "cell_type": "code",
   "execution_count": 3,
   "metadata": {},
   "outputs": [],
   "source": [
    "from splinter import Browser\n",
    "from bs4 import BeautifulSoup\n",
    "from webdriver_manager.chrome import ChromeDriverManager"
   ]
  },
  {
   "cell_type": "code",
   "execution_count": 4,
   "metadata": {},
   "outputs": [],
   "source": [
    "executable_path = {'executable_path': ChromeDriverManager().install()}\n",
    "browser = Browser('chrome', **executable_path, headless=False)"
   ]
  },
  {
   "cell_type": "code",
   "execution_count": 6,
   "metadata": {},
   "outputs": [],
   "source": [
    "url = 'http://redplanetscience.com/'\n",
    "browser.visit(url)"
   ]
  },
  {
   "cell_type": "code",
   "execution_count": null,
   "metadata": {},
   "outputs": [],
   "source": [
    "html = browser.html\n",
    "    # Parse HTML with Beautiful Soup\n",
    "soup = BeautifulSoup(html, 'html.parser')\n",
    "    # Retrieve all elements that contain book information\n",
    "articles = soup.find_all('div', class_='list_text')\n",
    "print(articles)"
   ]
  },
  {
   "cell_type": "code",
   "execution_count": null,
   "metadata": {},
   "outputs": [],
   "source": [
    "# Iterate through each book\n",
    "\n",
    "title_list =[]\n",
    "preview_list=[]\n",
    "\n",
    "title_dict = {\"Title\":[], \"preview\":[]}\n",
    "\n",
    "for article in articles:\n",
    "        # Use Beautiful Soup's find() method to navigate and retrieve attributes\n",
    "        try:\n",
    "                \n",
    "                list_date = article.find('div', class_='list_date').text\n",
    "                content_title = article.find('div', class_='content_title').text\n",
    "                title_list.append(content_title)\n",
    "                article_teaser_body = article.find('div', class_='article_teaser_body').text\n",
    "                preview_list.append(article_teaser_body)\n",
    "                \n",
    "                print('-----------')\n",
    "                print(list_date)\n",
    "                print(content_title)\n",
    "                print(article_teaser_body)\n",
    "          \n",
    "        except:\n",
    "                print(\"Scraping Complete\")"
   ]
  },
  {
   "cell_type": "code",
   "execution_count": 32,
   "metadata": {},
   "outputs": [
    {
     "data": {
      "text/plain": [
       "{'AI Is Helping Scientists Discover Fresh Craters on Mars': \"It's the first time machine learning has been used to find previously unknown craters on the Red Planet.\",\n",
       " \"NASA Engineers Checking InSight's Weather Sensors\": 'An electronics issue is suspected to be preventing the sensors from sharing their data about Mars weather with the spacecraft.',\n",
       " 'NASA Updates Mars 2020 Mission Environmental Review': 'NASA and the Department of Energy have completed a more detailed risk analysis for the Mars 2020 rover launch from Florida.',\n",
       " \"NASA's Mars Perseverance Rover Gets Its Sample Handling System\": 'The system will be collecting and storing Martian rock and soil. Its installation marks another milestone in the march toward the July launch period.',\n",
       " 'Mars Scientists Investigate Ancient Life in Australia': \"Teams with NASA's Mars 2020 and ESA's ExoMars practiced hunting for fossilized microbial life in the Australian Outback in preparation for their Red Planet missions. \",\n",
       " \"NASA's Perseverance Rover Will Peer Beneath Mars' Surface \": \"The agency's newest rover will use the first ground-penetrating radar instrument on the Martian surface to help search for signs of past microbial life. \",\n",
       " 'Space History Is Made in This NASA Robot Factory': \"From rockets to rovers, JPL's Spacecraft Assembly Facility has been at the center of robotic spaceflight. Here's a closer look at what makes it so special.\",\n",
       " 'MOXIE Could Help Future Rockets Launch Off Mars': \"NASA's Perseverance rover carries a device to convert Martian air into oxygen that, if produced on a larger scale, could be used not just for breathing, but also for fuel.\",\n",
       " \"10.9 Million Names Now Aboard NASA's Perseverance Mars Rover\": \"As part of NASA's 'Send Your Name to Mars' campaign, they've been stenciled onto three microchips along with essays from NASA's 'Name the Rover' contest. Next stop: Mars.\",\n",
       " \"NASA's Mars 2020 Rover Tests Descent-Stage Separation\": \"A crane lifts the rocket-powered descent stage away from NASA's Mars 2020 rover after technicians tested the pyrotechnic charges that separate the two spacecraft.\",\n",
       " \"Common Questions about InSight's 'Mole'\": 'The following Q&As with members of the team answer some of the most common questions about the burrowing device, part of a science instrument called the Heat Flow and Physical Properties Package (HP3).',\n",
       " \"NASA's InSight Flexes Its Arm While Its 'Mole' Hits Pause\": \"Now that the lander's robotic arm has helped the mole get underground, it will resume science activities that have been on hold.\",\n",
       " \"NASA's Perseverance Rover Will Look at Mars Through These 'Eyes'\": 'A pair of zoomable cameras will help scientists and rover drivers with high-resolution color images.',\n",
       " \"NASA's MAVEN Explores Mars to Understand Radio Interference at Earth\": 'NASA’s MAVEN spacecraft has discovered “layers” and “rifts” in the electrically charged part of the upper atmosphere of Mars.',\n",
       " 'Global Storms on Mars Launch Dust Towers Into the Sky': 'A Mars Dust Tower Stands Out Dust storms are common on Mars. But every decade or so, something unpredictable happens: a series of runaway storms break out, covering the entire planet in a dusty haze.'}"
      ]
     },
     "execution_count": 32,
     "metadata": {},
     "output_type": "execute_result"
    }
   ],
   "source": [
    "title_dict = dict(zip(title_list, preview_list))\n",
    "title_dict\n",
    "    "
   ]
  }
 ],
 "metadata": {
  "kernelspec": {
   "display_name": "Python 3.9.12 ('base')",
   "language": "python",
   "name": "python3"
  },
  "language_info": {
   "codemirror_mode": {
    "name": "ipython",
    "version": 3
   },
   "file_extension": ".py",
   "mimetype": "text/x-python",
   "name": "python",
   "nbconvert_exporter": "python",
   "pygments_lexer": "ipython3",
   "version": "3.9.12"
  },
  "orig_nbformat": 4,
  "vscode": {
   "interpreter": {
    "hash": "836d2a737f345f770091c2a0c0b83549937904d5f6f9008ba9ac2389b7758057"
   }
  }
 },
 "nbformat": 4,
 "nbformat_minor": 2
}
